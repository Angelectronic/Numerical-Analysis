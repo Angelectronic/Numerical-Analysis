{
 "cells": [
  {
   "cell_type": "code",
   "execution_count": 33,
   "metadata": {},
   "outputs": [],
   "source": [
    "import numpy as np\n",
    "import math\n",
    "import copy"
   ]
  },
  {
   "cell_type": "code",
   "execution_count": 34,
   "metadata": {},
   "outputs": [],
   "source": [
    "number_of_points = 5\n",
    "degree = 2\n",
    "\n",
    "lower_bound = 0\n",
    "upper_bound = 1\n",
    "\n",
    "def y_cal(x):\n",
    "    res = np.zeros(len(x), dtype = float)\n",
    "    for i in range(len(x)):\n",
    "        a = 1/((2*math.pi)**(-1/2))\n",
    "        b = math.exp((-x[i]**2)/2)\n",
    "        res[i] = a*b\n",
    "    return res"
   ]
  },
  {
   "cell_type": "code",
   "execution_count": 35,
   "metadata": {},
   "outputs": [
    {
     "name": "stdout",
     "output_type": "stream",
     "text": [
      "[0.   0.25 0.5  0.75 1.  ]\n",
      "[2.50662827 2.42950743 2.21209169 1.89210229 1.5203469 ]\n"
     ]
    }
   ],
   "source": [
    "x = np.linspace(lower_bound, upper_bound, number_of_points)\n",
    "y = y_cal(x)\n",
    "print(x)\n",
    "print(y)"
   ]
  },
  {
   "cell_type": "code",
   "execution_count": 36,
   "metadata": {},
   "outputs": [
    {
     "name": "stdout",
     "output_type": "stream",
     "text": [
      "[[5.        2.5       1.875    ]\n",
      " [2.5       1.875     1.5625   ]\n",
      " [1.875     1.5625    1.3828125]]\n",
      "[10.56067658  4.65284632  3.28952158]\n"
     ]
    }
   ],
   "source": [
    "X = np.zeros((degree + 1, degree + 1), dtype = float)\n",
    "Y = np.zeros(degree + 1, dtype = float)\n",
    "\n",
    "for i in range(degree + 1):\n",
    "    for j in range(degree + 1):\n",
    "        X[i][j] = np.sum(x**(i + j))\n",
    "    Y[i] = np.sum(y*x**i)\n",
    "print(X)\n",
    "print(Y)"
   ]
  },
  {
   "cell_type": "code",
   "execution_count": 37,
   "metadata": {},
   "outputs": [
    {
     "name": "stdout",
     "output_type": "stream",
     "text": [
      "[ 2.51529422 -0.21330973 -0.79067742]\n"
     ]
    }
   ],
   "source": [
    "row, col = X.shape\n",
    "\n",
    "# Gauss\n",
    "for i in range(row):\n",
    "    if X[i, i] == 0:\n",
    "        for j in range(i + 1, row):\n",
    "            if X[j, i] != 0:\n",
    "                C = copy.deepcopy(A[i])\n",
    "                X[i] = copy.deepcopy(A[j])\n",
    "                X[j] = C\n",
    "                C = copy.deepcopy(b[i])\n",
    "                Y[i] = copy.deepcopy(Y[j])\n",
    "                Y[j] = C\n",
    "                break\n",
    "\n",
    "    Y[i] = Y[i] / X[i, i]\n",
    "    X[i] = X[i] / X[i, i]\n",
    "    for j in range(i + 1, row):\n",
    "        Y[j] = Y[j] - Y[i] * X[j, i]\n",
    "        X[j] = X[j] - X[i] * X[j, i]\n",
    "     \n",
    "\n",
    "# Yackward    \n",
    "for i in range(row - 1, -1, -1):\n",
    "    for j in range(i - 1, -1, -1):\n",
    "        Y[j] = Y[j] - Y[i] * X[j, i]\n",
    "        X[j] = X[j] - X[i] * X[j, i]\n",
    "        \n",
    "print(Y)"
   ]
  },
  {
   "cell_type": "code",
   "execution_count": null,
   "metadata": {},
   "outputs": [],
   "source": []
  }
 ],
 "metadata": {
  "kernelspec": {
   "display_name": "base",
   "language": "python",
   "name": "python3"
  },
  "language_info": {
   "codemirror_mode": {
    "name": "ipython",
    "version": 3
   },
   "file_extension": ".py",
   "mimetype": "text/x-python",
   "name": "python",
   "nbconvert_exporter": "python",
   "pygments_lexer": "ipython3",
   "version": "3.9.13"
  },
  "orig_nbformat": 4
 },
 "nbformat": 4,
 "nbformat_minor": 2
}
