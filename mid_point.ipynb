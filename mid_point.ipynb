{
 "cells": [
  {
   "cell_type": "code",
   "execution_count": 1,
   "metadata": {},
   "outputs": [],
   "source": [
    "import numpy as np\n",
    "import math"
   ]
  },
  {
   "cell_type": "code",
   "execution_count": 2,
   "metadata": {},
   "outputs": [],
   "source": [
    "number_of_points = 50\n",
    "degree = 2\n",
    "\n",
    "lower_bound = 0\n",
    "upper_bound = 1\n",
    "\n",
    "def y_cal(x):\n",
    "    res = np.zeros(len(x), dtype = float)\n",
    "    for i in range(len(x)):\n",
    "        a = 1/((2*math.pi)**(-1/2))\n",
    "        b = math.exp((-x[i]**2)/2)\n",
    "        res[i] = a*b\n",
    "    return res"
   ]
  },
  {
   "cell_type": "code",
   "execution_count": 3,
   "metadata": {},
   "outputs": [],
   "source": [
    "x = np.linspace(lower_bound, upper_bound, number_of_points)\n",
    "y = y_cal(x)"
   ]
  },
  {
   "cell_type": "code",
   "execution_count": 4,
   "metadata": {},
   "outputs": [
    {
     "name": "stdout",
     "output_type": "stream",
     "text": [
      "2.195993518185119\n"
     ]
    }
   ],
   "source": [
    "h = (upper_bound - lower_bound)/(number_of_points - 1)\n",
    "res = 2 * h * np.sum(y[0:-1:2])\n",
    "print(res)"
   ]
  },
  {
   "cell_type": "code",
   "execution_count": null,
   "metadata": {},
   "outputs": [],
   "source": []
  }
 ],
 "metadata": {
  "kernelspec": {
   "display_name": "base",
   "language": "python",
   "name": "python3"
  },
  "language_info": {
   "codemirror_mode": {
    "name": "ipython",
    "version": 3
   },
   "file_extension": ".py",
   "mimetype": "text/x-python",
   "name": "python",
   "nbconvert_exporter": "python",
   "pygments_lexer": "ipython3",
   "version": "3.9.13"
  },
  "orig_nbformat": 4
 },
 "nbformat": 4,
 "nbformat_minor": 2
}
