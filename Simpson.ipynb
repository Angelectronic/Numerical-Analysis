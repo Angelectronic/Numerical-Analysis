{
 "cells": [
  {
   "cell_type": "code",
   "execution_count": 2,
   "metadata": {},
   "outputs": [],
   "source": [
    "import numpy as np\n",
    "import math"
   ]
  },
  {
   "cell_type": "code",
   "execution_count": 3,
   "metadata": {},
   "outputs": [],
   "source": [
    "number_of_points = 50\n",
    "degree = 2\n",
    "\n",
    "lower_bound = 0\n",
    "upper_bound = 1\n",
    "\n",
    "def y_cal(x):\n",
    "    res = np.zeros(len(x), dtype = float)\n",
    "    for i in range(len(x)):\n",
    "        a = 1/((2*math.pi)**(-1/2))\n",
    "        b = math.exp((-x[i]**2)/2)\n",
    "        res[i] = a*b\n",
    "    return res"
   ]
  },
  {
   "cell_type": "code",
   "execution_count": 4,
   "metadata": {},
   "outputs": [
    {
     "data": {
      "text/plain": [
       "array([2.50662827, 2.50610633, 2.50454116, 2.5019347 , 2.49829023,\n",
       "       2.49361227, 2.48790666, 2.48118049, 2.47344212, 2.46470115,\n",
       "       2.45496837, 2.4442558 , 2.43257661, 2.41994512, 2.40637678,\n",
       "       2.39188811, 2.37649666, 2.36022104, 2.3430808 , 2.32509645,\n",
       "       2.30628939, 2.28668186, 2.26629694, 2.24515846, 2.22329096,\n",
       "       2.20071967, 2.17747044, 2.15356969, 2.12904437, 2.1039219 ,\n",
       "       2.07823012, 2.05199725, 2.02525183, 1.99802267, 1.9703388 ,\n",
       "       1.94222941, 1.91372382, 1.8848514 , 1.85564157, 1.82612367,\n",
       "       1.79632701, 1.76628074, 1.73601385, 1.70555511, 1.67493304,\n",
       "       1.64417583, 1.61331135, 1.58236707, 1.55137006, 1.5203469 ])"
      ]
     },
     "execution_count": 4,
     "metadata": {},
     "output_type": "execute_result"
    }
   ],
   "source": [
    "x = np.linspace(lower_bound, upper_bound, number_of_points)\n",
    "y = y_cal(x)\n"
   ]
  },
  {
   "cell_type": "code",
   "execution_count": 5,
   "metadata": {},
   "outputs": [
    {
     "data": {
      "text/plain": [
       "2.1342842571865166"
      ]
     },
     "execution_count": 5,
     "metadata": {},
     "output_type": "execute_result"
    }
   ],
   "source": [
    "h = (upper_bound - lower_bound)/(number_of_points - 1)\n",
    "res = (h/3) * (y[0] + y[-1] + 4*np.sum(y[1:-1:2]) + 2*np.sum(y[2:-1:2]))\n",
    "res"
   ]
  },
  {
   "cell_type": "code",
   "execution_count": null,
   "metadata": {},
   "outputs": [],
   "source": []
  }
 ],
 "metadata": {
  "kernelspec": {
   "display_name": "base",
   "language": "python",
   "name": "python3"
  },
  "language_info": {
   "codemirror_mode": {
    "name": "ipython",
    "version": 3
   },
   "file_extension": ".py",
   "mimetype": "text/x-python",
   "name": "python",
   "nbconvert_exporter": "python",
   "pygments_lexer": "ipython3",
   "version": "3.9.13"
  },
  "orig_nbformat": 4
 },
 "nbformat": 4,
 "nbformat_minor": 2
}
