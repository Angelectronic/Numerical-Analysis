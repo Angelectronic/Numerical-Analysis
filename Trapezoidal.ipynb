{
 "cells": [
  {
   "cell_type": "code",
   "execution_count": 2,
   "metadata": {},
   "outputs": [],
   "source": [
    "import numpy as np\n",
    "import math"
   ]
  },
  {
   "cell_type": "code",
   "execution_count": 3,
   "metadata": {},
   "outputs": [],
   "source": [
    "number_of_points = 50\n",
    "degree = 2\n",
    "\n",
    "lower_bound = 0\n",
    "upper_bound = 1\n",
    "\n",
    "def y_cal(x):\n",
    "    res = np.zeros(len(x), dtype = float)\n",
    "    for i in range(len(x)):\n",
    "        a = 1/((2*math.pi)**(-1/2))\n",
    "        b = math.exp((-x[i]**2)/2)\n",
    "        res[i] = a*b\n",
    "    return res"
   ]
  },
  {
   "cell_type": "code",
   "execution_count": 4,
   "metadata": {},
   "outputs": [],
   "source": [
    "x = np.linspace(lower_bound, upper_bound, number_of_points)\n",
    "y = y_cal(x)"
   ]
  },
  {
   "cell_type": "code",
   "execution_count": 5,
   "metadata": {},
   "outputs": [
    {
     "data": {
      "text/plain": [
       "2.144679524611857"
      ]
     },
     "execution_count": 5,
     "metadata": {},
     "output_type": "execute_result"
    }
   ],
   "source": [
    "h = (upper_bound - lower_bound)/(number_of_points - 1)\n",
    "res = (h/2)*(y[0] + y[-1] + 2*sum(y[1:-1]))\n",
    "res"
   ]
  },
  {
   "cell_type": "code",
   "execution_count": null,
   "metadata": {},
   "outputs": [],
   "source": []
  }
 ],
 "metadata": {
  "kernelspec": {
   "display_name": "base",
   "language": "python",
   "name": "python3"
  },
  "language_info": {
   "codemirror_mode": {
    "name": "ipython",
    "version": 3
   },
   "file_extension": ".py",
   "mimetype": "text/x-python",
   "name": "python",
   "nbconvert_exporter": "python",
   "pygments_lexer": "ipython3",
   "version": "3.9.13"
  },
  "orig_nbformat": 4
 },
 "nbformat": 4,
 "nbformat_minor": 2
}
