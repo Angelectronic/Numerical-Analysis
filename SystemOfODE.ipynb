{
 "cells": [
  {
   "cell_type": "code",
   "execution_count": 14,
   "metadata": {},
   "outputs": [],
   "source": [
    "import numpy as np\n",
    "import math"
   ]
  },
  {
   "cell_type": "code",
   "execution_count": 15,
   "metadata": {},
   "outputs": [],
   "source": [
    "h = 0.1\n",
    "upper = 1.0\n",
    "lower = 0.0\n",
    "x = np.arange(lower, upper+h, h)\n",
    "\n",
    "z = np.empty([len(x), 3], dtype=float)\n",
    "z[0] = [-2, 0, 8]\n",
    "\n",
    "def f_cal(z, t):\n",
    "    f_vec = np.zeros(len(z))\n",
    "    f_vec[0] = z[1]\n",
    "    f_vec[1] = np.exp(-z[1]) + z[0] - np.cos(t)\n",
    "    f_vec[2] = np.cbrt(z[2]) + z[0] - t*z[1]\n",
    "    return f_vec\n"
   ]
  },
  {
   "cell_type": "code",
   "execution_count": 16,
   "metadata": {},
   "outputs": [
    {
     "name": "stdout",
     "output_type": "stream",
     "text": [
      "[[-2.          0.          8.        ]\n",
      " [-2.         -0.2         8.        ]\n",
      " [-2.02       -0.37736014  8.002     ]\n",
      " [-2.05773601 -0.53152385  8.00756387]\n",
      " [-2.1108884  -0.66267878  8.01779899]\n",
      " [-2.17715628 -0.77187551  8.03336552]\n",
      " [-2.25434383 -0.86096732  8.05452133]\n",
      " [-2.34044056 -0.93239049  8.0811983 ]\n",
      " [-2.43367961 -0.98886125  8.11309596]\n",
      " [-2.53256573 -1.03308272  8.14977495]\n",
      " [-2.63587401 -1.06752889  8.19073624]]\n"
     ]
    }
   ],
   "source": [
    "# Euler's method\n",
    "for i in range(0, len(x)-1):\n",
    "    z[i+1] = z[i] + h*f_cal(z[i], x[i])\n",
    "\n",
    "print(z)"
   ]
  },
  {
   "cell_type": "code",
   "execution_count": null,
   "metadata": {},
   "outputs": [],
   "source": []
  }
 ],
 "metadata": {
  "kernelspec": {
   "display_name": "base",
   "language": "python",
   "name": "python3"
  },
  "language_info": {
   "codemirror_mode": {
    "name": "ipython",
    "version": 3
   },
   "file_extension": ".py",
   "mimetype": "text/x-python",
   "name": "python",
   "nbconvert_exporter": "python",
   "pygments_lexer": "ipython3",
   "version": "3.9.13"
  },
  "orig_nbformat": 4
 },
 "nbformat": 4,
 "nbformat_minor": 2
}
