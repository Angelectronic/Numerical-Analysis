{
 "cells": [
  {
   "cell_type": "code",
   "execution_count": 1,
   "metadata": {},
   "outputs": [],
   "source": [
    "import numpy as np\n",
    "import math\n",
    "import copy"
   ]
  },
  {
   "cell_type": "code",
   "execution_count": 4,
   "metadata": {},
   "outputs": [],
   "source": [
    "number_of_points = 50\n",
    "degree = 2\n",
    "\n",
    "lower_bound = 0\n",
    "upper_bound = 1\n",
    "\n",
    "def y_cal(x):\n",
    "    res = np.zeros(len(x), dtype = float)\n",
    "    for i in range(len(x)):\n",
    "        a = 1/((2*math.pi)**(-1/2))\n",
    "        b = math.exp((-x[i]**2)/2)\n",
    "        res[i] = a*b\n",
    "    return res"
   ]
  },
  {
   "cell_type": "code",
   "execution_count": 5,
   "metadata": {},
   "outputs": [],
   "source": [
    "x = np.linspace(lower_bound, upper_bound, number_of_points)\n",
    "y = y_cal(x)"
   ]
  },
  {
   "cell_type": "code",
   "execution_count": 9,
   "metadata": {},
   "outputs": [
    {
     "name": "stdout",
     "output_type": "stream",
     "text": [
      "x =  0.0 f_derivative =  4.428812931204599e-08\n",
      "x =  0.02040816326530612 f_derivative =  -0.0511449564765205\n",
      "x =  0.04081632653061224 f_derivative =  -0.10222616082489742\n",
      "x =  0.061224489795918366 f_derivative =  -0.15317966249902562\n",
      "x =  0.08163265306122448 f_derivative =  -0.20394204163698262\n",
      "x =  0.1020408163265306 f_derivative =  -0.2544502094824306\n",
      "x =  0.12244897959183673 f_derivative =  -0.304641605323538\n",
      "x =  0.14285714285714285 f_derivative =  -0.35445432561780266\n",
      "x =  0.16326530612244897 f_derivative =  -0.40382725120859314\n",
      "x =  0.18367346938775508 f_derivative =  -0.4527001722668431\n",
      "x =  0.2040816326530612 f_derivative =  -0.5010139106014143\n",
      "x =  0.22448979591836732 f_derivative =  -0.5487104389897957\n",
      "x =  0.24489795918367346 f_derivative =  -0.59573299719287\n",
      "x =  0.26530612244897955 f_derivative =  -0.6420262043293122\n",
      "x =  0.2857142857142857 f_derivative =  -0.6875361672986536\n",
      "x =  0.3061224489795918 f_derivative =  -0.7322105849570212\n",
      "x =  0.32653061224489793 f_derivative =  -0.775998847764491\n",
      "x =  0.3469387755102041 f_derivative =  -0.8188521326399834\n",
      "x =  0.36734693877551017 f_derivative =  -0.8607234927771366\n",
      "x =  0.3877551020408163 f_derivative =  -0.9015679421923329\n",
      "x =  0.4081632653061224 f_derivative =  -0.9413425347958353\n",
      "x =  0.42857142857142855 f_derivative =  -0.9800064377959311\n",
      "x =  0.44897959183673464 f_derivative =  -1.017520999266521\n",
      "x =  0.4693877551020408 f_derivative =  -1.053849809729387\n",
      "x =  0.4897959183673469 f_derivative =  -1.0889587576232709\n",
      "x =  0.5102040816326531 f_derivative =  -1.1228160785533243\n",
      "x =  0.5306122448979591 f_derivative =  -1.1553923982358718\n",
      "x =  0.5510204081632653 f_derivative =  -1.1866607690757884\n",
      "x =  0.5714285714285714 f_derivative =  -1.2165967003348577\n",
      "x =  0.5918367346938775 f_derivative =  -1.2451781818710494\n",
      "x =  0.6122448979591836 f_derivative =  -1.2723857014510305\n",
      "x =  0.6326530612244897 f_derivative =  -1.298202255658656\n",
      "x =  0.6530612244897959 f_derivative =  -1.3226133544431242\n",
      "x =  0.673469387755102 f_derivative =  -1.3456070193718483\n",
      "x =  0.6938775510204082 f_derivative =  -1.3671737756720372\n",
      "x =  0.7142857142857142 f_derivative =  -1.3873066381652834\n",
      "x =  0.7346938775510203 f_derivative =  -1.4060010912178038\n",
      "x =  0.7551020408163265 f_derivative =  -1.4232550628472462\n",
      "x =  0.7755102040816326 f_derivative =  -1.439068893144445\n",
      "x =  0.7959183673469387 f_derivative =  -1.453445297184807\n",
      "x =  0.8163265306122448 f_derivative =  -1.4663893226197346\n",
      "x =  0.836734693877551 f_derivative =  -1.4779083021529544\n",
      "x =  0.8571428571428571 f_derivative =  -1.4880118011208814\n",
      "x =  0.8775510204081632 f_derivative =  -1.4967115604080583\n",
      "x =  0.8979591836734693 f_derivative =  -1.504021434940561\n",
      "x =  0.9183673469387754 f_derivative =  -1.5099573280113168\n",
      "x =  0.9387755102040816 f_derivative =  -1.5145371216995367\n",
      "x =  0.9591836734693877 f_derivative =  -1.5177806036557009\n",
      "x =  0.9795918367346939 f_derivative =  -1.519709085538095\n",
      "x =  1.0 f_derivative =  -1.5203465566273304\n"
     ]
    }
   ],
   "source": [
    "h = (upper_bound - lower_bound)/(number_of_points - 1)\n",
    "f_derivative = np.zeros(len(x), dtype = float)\n",
    "f_derivative[0] = (1/(12 * h)) * (-25 * y[0] + 48 * y[1] - 36 * y[2] + 16 * y[3] - 3 * y[4])\n",
    "f_derivative[1] = (1/(12 * h)) * (-25 * y[1] + 48 * y[2] - 36 * y[3] + 16 * y[4] - 3 * y[5])\n",
    "f_derivative[len(x) - 2] = (1/(12 * h)) * (25 * y[len(x) - 2] - 48 * y[len(x) - 3] + 36 * y[len(x) - 4] - 16 * y[len(x) - 5] + 3 * y[len(x) - 6])\n",
    "f_derivative[len(x) - 1] = (1/(12 * h)) * (25 * y[len(x) - 1] - 48 * y[len(x) - 2] + 36 * y[len(x) - 3] - 16 * y[len(x) - 4] + 3 * y[len(x) - 5])\n",
    "for i in range(2, len(x) - 2):\n",
    "    f_derivative[i] = (1/(12 * h)) * (-y[i + 2] + 8 * y[i + 1] - 8 * y[i - 1] + y[i - 2])\n",
    "\n",
    "for i in range(len(x)):\n",
    "    print(\"x = \", x[i], \"f_derivative = \", f_derivative[i])"
   ]
  },
  {
   "cell_type": "code",
   "execution_count": null,
   "metadata": {},
   "outputs": [],
   "source": []
  }
 ],
 "metadata": {
  "kernelspec": {
   "display_name": "base",
   "language": "python",
   "name": "python3"
  },
  "language_info": {
   "codemirror_mode": {
    "name": "ipython",
    "version": 3
   },
   "file_extension": ".py",
   "mimetype": "text/x-python",
   "name": "python",
   "nbconvert_exporter": "python",
   "pygments_lexer": "ipython3",
   "version": "3.9.13"
  },
  "orig_nbformat": 4
 },
 "nbformat": 4,
 "nbformat_minor": 2
}
